{
 "cells": [
  {
   "cell_type": "markdown",
   "metadata": {},
   "source": [
    "# Linear Regression Model From Stratch\n",
    "Training Data on Custom-Built Linear Regression Model"
   ]
  },
  {
   "cell_type": "code",
   "execution_count": 2,
   "metadata": {},
   "outputs": [],
   "source": [
    "from sklearn.datasets._samples_generator import make_regression #to generate sample data\n",
    "import numpy as np\n",
    "from matplotlib import pyplot as plt\n",
    "from sklearn.model_selection import train_test_split\n",
    "from sklearn.metrics import root_mean_squared_error"
   ]
  },
  {
   "cell_type": "markdown",
   "metadata": {},
   "source": [
    "## Generating Sample Data"
   ]
  },
  {
   "cell_type": "code",
   "execution_count": 3,
   "metadata": {},
   "outputs": [
    {
     "name": "stdout",
     "output_type": "stream",
     "text": [
      "[[-0.8225842 ]\n",
      " [-0.04667467]\n",
      " [-0.16056362]\n",
      " [-0.41238072]\n",
      " [-0.05358755]\n",
      " [ 1.91171178]\n",
      " [ 0.71187915]\n",
      " [ 0.60437586]\n",
      " [-1.0844555 ]\n",
      " [ 0.0673945 ]\n",
      " [-0.22134672]\n",
      " [-0.68652344]\n",
      " [-1.4016353 ]\n",
      " [ 0.25737463]\n",
      " [ 0.66552946]\n",
      " [ 0.2630036 ]\n",
      " [ 1.26843893]\n",
      " [ 0.75272929]\n",
      " [ 0.01007315]\n",
      " [ 0.0204526 ]\n",
      " [-0.48716582]\n",
      " [ 0.2376315 ]\n",
      " [-0.21495011]\n",
      " [-1.05723508]\n",
      " [-0.29594898]\n",
      " [ 0.04974017]\n",
      " [ 0.47725678]\n",
      " [ 0.52518578]\n",
      " [ 0.6438291 ]\n",
      " [ 2.47053186]\n",
      " [ 0.49022774]\n",
      " [-1.52007408]\n",
      " [-0.52967163]\n",
      " [-0.07992433]\n",
      " [ 1.11773591]\n",
      " [-0.01471103]\n",
      " [ 0.03181006]\n",
      " [-1.07824164]\n",
      " [-0.35644507]\n",
      " [-0.24088278]\n",
      " [ 1.82304317]\n",
      " [-0.04241359]\n",
      " [ 0.21853781]\n",
      " [-0.52612687]\n",
      " [-0.15125239]\n",
      " [ 0.59205971]\n",
      " [ 0.75911579]\n",
      " [ 0.64311606]\n",
      " [ 0.49985347]\n",
      " [-1.76498398]\n",
      " [-0.94861729]\n",
      " [-0.21351859]\n",
      " [ 0.2674604 ]\n",
      " [-0.43224009]\n",
      " [-0.11879521]\n",
      " [-0.73603076]\n",
      " [ 0.26655566]\n",
      " [ 0.83175166]\n",
      " [-0.25665373]\n",
      " [-0.03143433]\n",
      " [-1.56145563]\n",
      " [ 0.55370177]\n",
      " [ 1.38609443]\n",
      " [-0.46698477]\n",
      " [ 0.69049189]\n",
      " [ 0.79200593]\n",
      " [-1.95027664]\n",
      " [ 0.74731893]\n",
      " [-0.33215113]\n",
      " [ 0.18199109]\n",
      " [ 0.52045974]\n",
      " [ 0.0888159 ]\n",
      " [-0.19478459]\n",
      " [ 0.35786937]\n",
      " [ 1.46492525]\n",
      " [ 2.39702707]\n",
      " [ 0.09743798]\n",
      " [ 1.71106875]\n",
      " [-0.13055295]\n",
      " [-0.6792212 ]\n",
      " [ 1.26157625]\n",
      " [-0.1968985 ]\n",
      " [ 0.19991277]\n",
      " [ 1.19279792]\n",
      " [-0.90237437]\n",
      " [-1.00900322]\n",
      " [ 1.67752061]\n",
      " [-1.86451829]\n",
      " [-0.35957085]\n",
      " [ 1.61904563]\n",
      " [ 0.32154286]\n",
      " [ 1.03588743]\n",
      " [-0.75361164]\n",
      " [-1.15418177]\n",
      " [ 1.40173878]\n",
      " [ 0.77047831]\n",
      " [ 1.00001438]\n",
      " [ 1.92273803]\n",
      " [-0.40408192]\n",
      " [ 0.06986397]\n",
      " [ 0.55642577]\n",
      " [ 0.31125086]\n",
      " [-0.33175226]\n",
      " [ 1.58203196]\n",
      " [-0.64653444]\n",
      " [ 0.21215972]\n",
      " [ 0.72311791]\n",
      " [-0.3916012 ]\n",
      " [ 0.2455297 ]\n",
      " [-0.75800308]\n",
      " [-0.62123409]\n",
      " [ 2.08347422]\n",
      " [-0.11856477]\n",
      " [-0.13390765]\n",
      " [ 2.21796653]\n",
      " [-1.95566295]\n",
      " [ 0.7125135 ]\n",
      " [ 0.16227964]\n",
      " [ 0.21348149]\n",
      " [ 0.44375837]\n",
      " [ 2.2133805 ]\n",
      " [-0.13549052]\n",
      " [-0.84437193]\n",
      " [ 0.94702945]\n",
      " [ 0.53459462]\n",
      " [ 0.52423795]\n",
      " [-1.42595201]\n",
      " [ 0.59944615]\n",
      " [-1.25115029]\n",
      " [-0.06996847]\n",
      " [-0.65360768]\n",
      " [-1.15141763]\n",
      " [-0.60884936]\n",
      " [-2.55798096]\n",
      " [-1.06997395]\n",
      " [-0.01922641]\n",
      " [-1.74434015]\n",
      " [ 1.22923449]\n",
      " [-0.56406935]\n",
      " [ 0.73690722]\n",
      " [-1.26658088]\n",
      " [-0.53322656]\n",
      " [ 0.96962171]\n",
      " [-0.12485667]\n",
      " [-0.90961546]\n",
      " [ 0.66502076]\n",
      " [ 0.69673284]\n",
      " [-1.11952533]\n",
      " [ 0.50168997]\n",
      " [-0.86291629]\n",
      " [-0.69193937]\n",
      " [-0.88974969]\n",
      " [-0.84640754]\n",
      " [-0.24249065]\n",
      " [-0.21511014]\n",
      " [-0.41817574]\n",
      " [ 0.36146623]\n",
      " [ 1.77857249]\n",
      " [ 2.24698967]\n",
      " [ 0.85658198]\n",
      " [-0.8677184 ]\n",
      " [-0.27289366]\n",
      " [ 0.42273453]\n",
      " [ 0.76579565]\n",
      " [-0.07213603]\n",
      " [-0.48286855]\n",
      " [ 0.382583  ]\n",
      " [-0.68040333]\n",
      " [ 1.20272375]\n",
      " [ 0.90744408]\n",
      " [-1.04264658]\n",
      " [ 1.30328603]\n",
      " [-0.70340284]\n",
      " [ 0.66597247]\n",
      " [-1.52903765]\n",
      " [-0.63968302]\n",
      " [-0.66553423]\n",
      " [ 0.77328417]\n",
      " [ 1.01734895]\n",
      " [-0.69537307]\n",
      " [-1.638067  ]\n",
      " [ 0.07324913]\n",
      " [ 2.18609495]\n",
      " [ 2.34805122]\n",
      " [ 0.97823615]\n",
      " [-0.29465727]\n",
      " [ 1.05444707]\n",
      " [-0.14479561]\n",
      " [ 0.82272281]\n",
      " [ 0.40311593]\n",
      " [-0.98463583]\n",
      " [ 1.97784597]\n",
      " [ 1.15805552]\n",
      " [-1.14883292]\n",
      " [-0.03008042]\n",
      " [ 1.84213516]\n",
      " [ 0.03292246]\n",
      " [ 3.07076344]\n",
      " [ 0.98530909]\n",
      " [ 1.21498404]] [ 7.05102941e+00  2.41268150e+01  2.77559883e+01  1.56082635e+01\n",
      "  2.59235720e+01  8.13612263e+01  4.78352515e+01  3.61302132e+01\n",
      "  2.02350099e+00  2.81428924e+01  3.43388608e+01  5.78357171e+00\n",
      " -9.44001586e+00  3.20179581e+01  5.38559002e+01  4.93059843e+01\n",
      "  7.45249318e+01  5.21270529e+01  3.44841491e+01  2.82074757e+01\n",
      "  1.91934996e+01  2.90594225e+01  2.94776369e+01 -6.07760199e+00\n",
      "  1.84575723e+01  2.04860050e+01  4.23846171e+01  3.50655906e+01\n",
      "  5.22990464e+01  9.77640077e+01  5.19880789e+01 -2.48240704e+01\n",
      "  1.03170725e+01  9.33440209e+00  5.84022270e+01  2.57773356e+01\n",
      "  3.72490670e+01 -6.10975206e+00  2.18398054e+01  1.95346630e+01\n",
      "  9.90900883e+01  2.50730376e+01  3.50745188e+01  1.95989937e+01\n",
      "  2.14395943e+01  5.14005583e+01  4.83247517e+01  4.17500561e+01\n",
      "  5.81933269e+01 -2.12014584e+01  4.03322125e+00  3.24317199e+01\n",
      "  3.69330293e+01  9.25800284e+00  2.04735983e+01  1.23146037e+01\n",
      "  4.45017133e+01  5.82514478e+01  2.28058898e+01  2.27335362e+01\n",
      " -9.28213533e+00  4.44085232e+01  8.34945613e+01  1.76638528e+01\n",
      "  6.09526642e+01  5.32252715e+01 -3.39394112e+01  6.17171974e+01\n",
      "  1.70408761e+01  3.40675250e+01  5.85962249e+01  4.46693595e+01\n",
      "  2.98451674e+01  5.78866562e+01  7.31863833e+01  9.57451594e+01\n",
      "  3.73733235e+01  7.46418683e+01  2.17963093e+01  2.65013507e+00\n",
      "  5.04709515e+01  2.29392895e+01  4.90884511e+01  7.14988697e+01\n",
      "  1.15914972e+01 -1.38253833e+01  8.49560676e+01 -2.71065717e+01\n",
      "  9.19804594e+00  7.31934089e+01  3.86449659e+01  6.27354130e+01\n",
      "  1.11372407e+01 -1.94929763e+00  6.98139223e+01  4.82878568e+01\n",
      "  5.40257971e+01  8.13364959e+01  1.96413288e+01  3.83668705e+01\n",
      "  4.70069372e+01  4.42277864e+01  1.01500381e+01  8.15147465e+01\n",
      "  3.85401036e+00  3.63130063e+01  5.22860814e+01  3.12234499e+01\n",
      "  2.83552983e+01  3.51740810e+00  1.43790522e+01  8.14206238e+01\n",
      "  3.03064562e+01  2.39278170e+01  9.96329517e+01 -2.13653905e+01\n",
      "  5.68975505e+01  3.74834450e+01  4.02285281e+01  5.24296806e+01\n",
      "  9.17872840e+01  2.91101523e+01 -5.61170411e-02  6.10117974e+01\n",
      "  3.87859002e+01  4.42450521e+01 -1.67454133e+01  5.36354160e+01\n",
      " -1.13014384e+01  4.31814723e+01  5.20723707e+00 -4.57793392e+00\n",
      "  1.88345935e+01 -4.78508809e+01 -9.33133948e+00  1.87756997e+01\n",
      " -2.16426052e+01  6.69083551e+01  1.58104207e+01  5.03726598e+01\n",
      " -3.65598262e+00  1.54283200e+01  6.24960860e+01  2.10755377e+01\n",
      " -4.63812762e+00  3.98343093e+01  5.51087055e+01 -1.93298512e+00\n",
      "  5.16184787e+01  1.14524614e+01  8.59783626e+00 -2.45826409e+00\n",
      "  1.01700077e+01  2.40270845e+01  2.98526953e+01  1.52958950e+01\n",
      "  5.43710801e+01  7.55818800e+01  9.13399836e+01  6.00773238e+01\n",
      "  5.20190814e+00  2.26635444e+01  2.96857925e+01  4.72882109e+01\n",
      "  1.98204938e+01  2.31563369e+01  4.62431092e+01  6.89370238e+00\n",
      "  7.24074661e+01  5.16379804e+01 -1.08250731e+01  7.32970277e+01\n",
      "  5.19983533e+00  4.90731597e+01 -1.70875966e+01  9.23229837e+00\n",
      "  1.58761361e+01  5.76467448e+01  6.97346229e+01  8.79513557e+00\n",
      " -1.76010255e+01  2.46791381e+01  9.40503934e+01  9.92565419e+01\n",
      "  5.91895572e+01  2.25670627e+01  5.44212138e+01  2.56335505e+01\n",
      "  4.46194673e+01  4.25750751e+01 -4.84026181e+00  8.71153837e+01\n",
      "  6.41759095e+01 -1.88590588e+00  3.14504472e+01  8.35739044e+01\n",
      "  3.24200599e+01  1.21189093e+02  6.45271416e+01  6.43267561e+01]\n"
     ]
    }
   ],
   "source": [
    "#Data Size Variables\n",
    "num_entries = 250\n",
    "sample_test_size = .2\n",
    "m = int(num_entries * (1-sample_test_size))\n",
    "\n",
    "#Create train and test data\n",
    "X, y = make_regression(n_samples=num_entries, n_features=1, n_informative=1, noise=6, bias=30, random_state=200)\n",
    "X_train, X_test, y_train, y_test = train_test_split(X, y, test_size=sample_test_size, random_state=42)\n",
    "\n",
    "print(X_train, y_train)"
   ]
  },
  {
   "cell_type": "markdown",
   "metadata": {},
   "source": [
    "## Visualize Data"
   ]
  },
  {
   "cell_type": "code",
   "execution_count": 4,
   "metadata": {},
   "outputs": [
    {
     "data": {
      "image/png": "[encoded data removed]",
      "text/plain": [
       "<Figure size 640x480 with 1 Axes>"
      ]
     },
     "metadata": {},
     "output_type": "display_data"
    }
   ],
   "source": [
    "plt.scatter(X_train, y_train, c = \"green\", alpha=.5, marker='.')\n",
    "plt.xlabel(\"X\")\n",
    "plt.ylabel(\"y\")\n",
    "plt.show()"
   ]
  },
  {
   "cell_type": "markdown",
   "metadata": {},
   "source": [
    "# Create Model w/ NumPy"
   ]
  },
  {
   "cell_type": "markdown",
   "metadata": {},
   "source": [
    "## Linear Model (equation)"
   ]
  },
  {
   "cell_type": "code",
   "execution_count": 5,
   "metadata": {},
   "outputs": [],
   "source": [
    "#Linear equation (vectorized format) = w1x1 + w0\n",
    "#Returns array of predicted y values\n",
    "def h(X,w):\n",
    "    return (w[1]*np.array(X[:,0])+w[0])"
   ]
  },
  {
   "cell_type": "markdown",
   "metadata": {},
   "source": [
    "## Cost Function"
   ]
  },
  {
   "cell_type": "code",
   "execution_count": 6,
   "metadata": {},
   "outputs": [],
   "source": [
    "#Returns Mean Squared Error\n",
    "def cost(w, X, y):\n",
    "    return (.5/m) * np.sum(np.square(h(X,w)-np.array(y)))"
   ]
  },
  {
   "cell_type": "markdown",
   "metadata": {},
   "source": [
    "## Gradient Descent"
   ]
  },
  {
   "cell_type": "code",
   "execution_count": 7,
   "metadata": {},
   "outputs": [],
   "source": [
    "#Returns array of gradients (derivatives of cost function) in respect to each weight/parameter\n",
    "def grad(w, X, y):\n",
    "    g = [0]*2 #Initialize array of weights\n",
    "    g[0] = (1/m) * np.sum(h(X,w) - np.array(y))\n",
    "    g[1] = (1/m) * np.sum((h(X,w) - np.array(y)) * np.array(X[:,0]))\n",
    "    return g"
   ]
  },
  {
   "cell_type": "code",
   "execution_count": 8,
   "metadata": {},
   "outputs": [],
   "source": [
    "def descent(w_new, lr): #lr = learning rate\n",
    "    j=0 #number of iterations\n",
    "\n",
    "    while True:\n",
    "        #update weight values\n",
    "        w_prev = w_new\n",
    "        w0 = w_prev[0] - lr*grad(w_prev, X_train, y_train)[0]\n",
    "        w1 = w_prev[1] - lr*grad(w_prev, X_train, y_train)[1]\n",
    "        w_new = [w0,w1]\n",
    "        print(\"Weights: w1 = {}, w0 = {}\".format(w1, w0),\n",
    "               \"| Cost Function Value: {}\".format(cost(w_new, X_train, y_train)))\n",
    "\n",
    "        #stopping conditions\n",
    "        if (w_new[0]-w_prev[0])**2 + (w_new[1]-w_prev[1])**2 <= pow(10, -6): #error threshold = 1e-6\n",
    "            return w_new\n",
    "        if j>500: #max iterations\n",
    "            return w_new\n",
    "        j+=1"
   ]
  },
  {
   "cell_type": "markdown",
   "metadata": {},
   "source": [
    "## Initialize Parameters"
   ]
  },
  {
   "cell_type": "code",
   "execution_count": 9,
   "metadata": {},
   "outputs": [],
   "source": [
    "#Initialize weights/parameters\n",
    "w = [0, -1]"
   ]
  },
  {
   "cell_type": "markdown",
   "metadata": {},
   "source": [
    "## Train Model"
   ]
  },
  {
   "cell_type": "code",
   "execution_count": 10,
   "metadata": {},
   "outputs": [
    {
     "name": "stdout",
     "output_type": "stream",
     "text": [
      "Weights: w1 = 2.4737410250692804, w0 = 3.406433117887263 | Cost Function Value: 841.239477104371\n",
      "Weights: w1 = 5.555077028560371, w0 = 6.4256025831913615 | Cost Function Value: 665.6834963768764\n",
      "Weights: w1 = 8.288368392203235, w0 = 9.101501145654488 | Cost Function Value: 527.6602257868634\n",
      "Weights: w1 = 10.71295780379403, w0 = 11.47312692877948 | Cost Function Value: 419.1453396460066\n",
      "Weights: w1 = 12.863738067365007, w0 = 13.575050233858748 | Cost Function Value: 333.83009046703125\n",
      "Weights: w1 = 14.771655637528745, w0 = 15.437916043140564 | Cost Function Value: 266.75452099327987\n",
      "Weights: w1 = 16.464157155852426, w0 = 17.0888895148512 | Cost Function Value: 214.01909529234848\n",
      "Weights: w1 = 17.965585442895723, w0 = 18.552050935844964 | Cost Function Value: 172.55798290155334\n",
      "Weights: w1 = 19.297530668681386, w0 = 19.848745864464185 | Cost Function Value: 139.96081459981693\n",
      "Weights: w1 = 20.479141776285267, w0 = 20.997895546128845 | Cost Function Value: 114.33254657822582\n",
      "Weights: w1 = 21.527402658554717, w0 = 22.01627210781738 | Cost Function Value: 94.1832854452345\n",
      "Weights: w1 = 22.457377078375927, w0 = 22.918742526590297 | Cost Function Value: 78.3416684549635\n",
      "Weights: w1 = 23.28242587103886, w0 = 23.718484914238513 | Cost Function Value: 65.88676286841735\n",
      "Weights: w1 = 24.014399566554847, w0 = 24.42718025844004 | Cost Function Value: 56.0945250740106\n",
      "Weights: w1 = 24.663809214469783, w0 = 25.055182404657767 | Cost Function Value: 48.39570660758358\n",
      "Weights: w1 = 25.239977878644574, w0 = 25.61166874724392 | Cost Function Value: 42.34275974074093\n",
      "Weights: w1 = 25.751174990085847, w0 = 26.104773818254788 | Cost Function Value: 37.58381854467408\n",
      "Weights: w1 = 26.20473549816242, w0 = 26.54170771426315 | Cost Function Value: 33.84224270644708\n",
      "Weights: w1 = 26.60716554085252, w0 = 26.92886108138631 | Cost Function Value: 30.900534793616327\n",
      "Weights: w1 = 26.96423615985536, w0 = 27.271898183633326 | Cost Function Value: 28.587695934994596\n",
      "Weights: w1 = 27.281066413650663, w0 = 27.575839406686953 | Cost Function Value: 26.769284794017867\n",
      "Weights: w1 = 27.562197088402094, w0 = 27.84513439586463 | Cost Function Value: 25.339601879430166\n",
      "Weights: w1 = 27.811656070759902, w0 = 28.08372689102499 | Cost Function Value: 24.215544803775085\n",
      "Weights: w1 = 28.033016326159533, w0 = 28.29511220062923 | Cost Function Value: 23.331777247691544\n",
      "Weights: w1 = 28.229447319394456, w0 = 28.48238815028188 | Cost Function Value: 22.636930765481516\n",
      "Weights: w1 = 28.40376061951822, w0 = 28.64830024631293 | Cost Function Value: 22.09061861547889\n",
      "Weights: w1 = 28.558450347132837, w0 = 28.795281710948025 | Cost Function Value: 21.661088008625104\n",
      "Weights: w1 = 28.695729047633552, w0 = 28.92548897112716 | Cost Function Value: 21.323374285145057\n",
      "Weights: w1 = 28.81755950792651, w0 = 29.040833116994328 | Cost Function Value: 21.057849710275413\n",
      "Weights: w1 = 28.92568297556108, w0 = 29.14300778753277 | Cost Function Value: 20.84908252221425\n",
      "Weights: w1 = 29.02164418727527, w0 = 29.23351388891372 | Cost Function Value: 20.68493990269274\n",
      "Weights: w1 = 29.106813567890285, w0 = 29.313681505107493 | Cost Function Value: 20.555882721495728\n",
      "Weights: w1 = 29.18240691964244, w0 = 29.384689319506794 | Cost Function Value: 20.454411055349023\n",
      "Weights: w1 = 29.249502885817257, w0 = 29.447581830141374 | Cost Function Value: 20.37462824704918\n",
      "Weights: w1 = 29.30905844042762, w0 = 29.503284608995475 | Cost Function Value: 20.311898162150037\n",
      "Weights: w1 = 29.36192262719141, w0 = 29.55261782750986 | Cost Function Value: 20.262575718601358\n",
      "Weights: w1 = 29.408848745802086, w0 = 29.59630824514574 | Cost Function Value: 20.22379502445694\n",
      "Weights: w1 = 29.450505161083107, w0 = 29.63499983554295 | Cost Function Value: 20.193302807786953\n",
      "Weights: w1 = 29.48748489075045, w0 = 29.66926320499494 | Cost Function Value: 20.169327455946583\n",
      "Weights: w1 = 29.52031410988916, w0 = 29.699603940400962 | Cost Function Value: 20.150476051448628\n",
      "Weights: w1 = 29.549459694625877, w0 = 29.726470008286224 | Cost Function Value: 20.135653419211707\n",
      "Weights: w1 = 29.575335913623384, w0 = 29.75025831267805 | Cost Function Value: 20.123998479527497\n",
      "Weights: w1 = 29.598310363735468, w0 = 29.771320507389255 | Cost Function Value: 20.114834207100856\n",
      "Weights: w1 = 29.618709235263218, w0 = 29.789968147412047 | Cost Function Value: 20.107628287450904\n",
      "Weights: w1 = 29.63682198258987, w0 = 29.80647725450863 | Cost Function Value: 20.101962183801394\n",
      "Weights: w1 = 29.652905467400828, w0 = 29.821092363559163 | Cost Function Value: 20.097506816486536\n",
      "Weights: w1 = 29.66718763409486, w0 = 29.834030108669648 | Cost Function Value: 20.094003441274825\n",
      "Weights: w1 = 29.679870770251668, w0 = 29.845482401342103 | Cost Function Value: 20.091248615215534\n",
      "Weights: w1 = 29.69113439904318, w0 = 29.855619247069683 | Cost Function Value: 20.089082376207273\n",
      "Weights: w1 = 29.701137845174003, w0 = 29.86459124145385 | Cost Function Value: 20.08737894928884\n",
      "Weights: w1 = 29.71002251123483, w0 = 29.872531782272894 | Cost Function Value: 20.08603943951788\n",
      "Weights: w1 = 29.71791389718236, w0 = 29.879559029793114 | Cost Function Value: 20.08498608677105\n",
      "Weights: w1 = 29.72492339196121, w0 = 29.885777643945914 | Cost Function Value: 20.08415774858228\n",
      "Weights: w1 = 29.731149863003168, w0 = 29.89128032374218 | Cost Function Value: 20.083506348511015\n",
      "Weights: w1 = 29.736681066430364, w0 = 29.896149171412894 | Cost Function Value: 20.08299408364925\n",
      "Weights: w1 = 29.741594898208753, w0 = 29.90045690120966 | Cost Function Value: 20.082591228995888\n",
      "Weights: w1 = 29.745960504210352, w0 = 29.9042679105337 | Cost Function Value: 20.08227441111579\n",
      "Weights: w1 = 29.74983926511309, w0 = 29.90763922905404 | Cost Function Value: 20.08202525077311\n",
      "Weights: w1 = 29.75328567026728, w0 = 29.910621359695764 | Cost Function Value: 20.081829295671586\n",
      "Weights: w1 = 29.756348093061344, w0 = 29.913259023801437 | Cost Function Value: 20.08167518129283\n",
      "Weights: w1 = 29.7590694789034, w0 = 29.915591821370402 | Cost Function Value: 20.081553971078783\n",
      "Weights: w1 = 29.761487955679698, w0 = 29.917654816040855 | Cost Function Value: 20.08145863762576\n",
      "Weights: w1 = 29.76363737543684, w0 = 29.91947905338091 | Cost Function Value: 20.081383654751257\n",
      "Weights: w1 = 29.76554779504689, w0 = 29.92109202008074 | Cost Function Value: 20.081324676736674\n",
      "Weights: w1 = 29.767245902738175, w0 = 29.922518050774595 | Cost Function Value: 20.081278286114518\n",
      "Weights: w1 = 29.768755396597424, w0 = 29.923778688456263 | Cost Function Value: 20.081241795350603\n",
      "Weights: w1 = 29.770097320459328, w0 = 29.924893003773157 | Cost Function Value: 20.081213090903216\n",
      "Weights: w1 = 29.771290361988363, w0 = 29.925877877883114 | Cost Function Value: 20.0811905106028\n",
      "Weights: w1 = 29.772351117215106, w0 = 29.926748253025004 | Cost Function Value: 20.081172747231577\n",
      "Weights: w1 = 29.77329432530834, w0 = 29.927517354482013 | Cost Function Value: 20.081158772704157\n",
      "Weights: w1 = 29.774133076937368, w0 = 29.928196887197753 | Cost Function Value: 20.08114777844686\n",
      "Weights: w1 = 29.774878999200535, w0 = 29.92879720993438 | Cost Function Value: 20.08113912851448\n"
     ]
    }
   ],
   "source": [
    "w = descent(w, .1)"
   ]
  },
  {
   "cell_type": "markdown",
   "metadata": {},
   "source": [
    "## Plot model/line"
   ]
  },
  {
   "cell_type": "code",
   "execution_count": 11,
   "metadata": {},
   "outputs": [],
   "source": [
    "def abline(slope, intercept):\n",
    "    \"\"\"Plot a line from slope and intercept\"\"\"\n",
    "    axes = plt.gca()\n",
    "    x_vals = np.array(axes.get_xlim())\n",
    "    y_vals = intercept + slope * x_vals\n",
    "    plt.plot(x_vals, y_vals, '--')"
   ]
  },
  {
   "cell_type": "code",
   "execution_count": 12,
   "metadata": {},
   "outputs": [
    {
     "name": "stdout",
     "output_type": "stream",
     "text": [
      "29.774878999200535 x + 29.92879720993438\n"
     ]
    },
    {
     "data": {
      "image/png": "[encoded data removed]",
      "text/plain": [
       "<Figure size 640x480 with 1 Axes>"
      ]
     },
     "metadata": {},
     "output_type": "display_data"
    }
   ],
   "source": [
    "plt.scatter(X_train, y_train, c = \"green\", alpha=.5, marker='.')\n",
    "plt.xlabel(\"X\")\n",
    "plt.ylabel(\"y\")\n",
    "print(w[1], 'x +', w[0])\n",
    "abline(w[1], w[0])\n",
    "plt.show()"
   ]
  },
  {
   "cell_type": "markdown",
   "metadata": {},
   "source": [
    "# Evaluate Model"
   ]
  },
  {
   "cell_type": "code",
   "execution_count": 17,
   "metadata": {},
   "outputs": [
    {
     "name": "stdout",
     "output_type": "stream",
     "text": [
      "RMSE (train): 6.33737155743838\n",
      "STD (train): 29.47582416877496\n",
      "RMSE (test): 5.939901490524779\n",
      "STD (test): 29.801996672286155\n",
      "Model performs well!\n"
     ]
    }
   ],
   "source": [
    "y_pred_test = w[1]*X_test + w[0]\n",
    "y_pred_train = w[1]*X_train + w[0]\n",
    "rmse_train = root_mean_squared_error(y_train, y_pred_train)\n",
    "std_train = np.std(y_pred_train)\n",
    "rmse_test = root_mean_squared_error(y_test, y_pred_test)\n",
    "std_test = np.std(y_pred_test) #No laughing\n",
    "\n",
    "print(\"RMSE (train):\", rmse_train)\n",
    "print(\"STD (train):\", std_train)\n",
    "\n",
    "print(\"RMSE (test):\", rmse_test)\n",
    "print(\"STD (test):\", std_test)\n",
    "\n",
    "\n",
    "#Check if model fits well (RMSE less than half the standard deviation)\n",
    "if rmse_test < std_test * .5 and rmse_train < std_train * .5:\n",
    "    print(\"Model performs well!\")\n",
    "else:\n",
    "    print(\"Model not fitting well. Reevaluate!\")"
   ]
  }
 ],
 "metadata": {
  "kernelspec": {
   "display_name": "Python 3",
   "language": "python",
   "name": "python3"
  },
  "language_info": {
   "codemirror_mode": {
    "name": "ipython",
    "version": 3
   },
   "file_extension": ".py",
   "mimetype": "text/x-python",
   "name": "python",
   "nbconvert_exporter": "python",
   "pygments_lexer": "ipython3",
   "version": "3.10.6"
  }
 },
 "nbformat": 4,
 "nbformat_minor": 2
}
